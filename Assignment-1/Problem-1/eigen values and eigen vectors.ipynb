{
 "cells": [
  {
   "cell_type": "code",
   "execution_count": 1,
   "metadata": {},
   "outputs": [
    {
     "name": "stdout",
     "output_type": "stream",
     "text": [
      "Given Matrix:\n",
      " [[  2 -12]\n",
      " [  1  -5]]\n",
      "Eigen values are:\n",
      " [-1. -2.]\n",
      "Eigen vectors are:\n",
      " [[0.9701425  0.9486833 ]\n",
      " [0.24253563 0.31622777]]\n"
     ]
    }
   ],
   "source": [
    "import numpy as np\n",
    "from numpy.linalg import eig \n",
    "A = np.array([[2, -12],\n",
    "              [1, -5]])  \n",
    "print(\"Given Matrix:\\n\",A)  \n",
    "x,y = eig(A)     \n",
    "print(\"Eigen values are:\\n\",x)\n",
    "print(\"Eigen vectors are:\\n\",y)"
   ]
  },
  {
   "cell_type": "code",
   "execution_count": null,
   "metadata": {},
   "outputs": [],
   "source": []
  }
 ],
 "metadata": {
  "kernelspec": {
   "display_name": "Python 3",
   "language": "python",
   "name": "python3"
  },
  "language_info": {
   "codemirror_mode": {
    "name": "ipython",
    "version": 3
   },
   "file_extension": ".py",
   "mimetype": "text/x-python",
   "name": "python",
   "nbconvert_exporter": "python",
   "pygments_lexer": "ipython3",
   "version": "3.7.4"
  }
 },
 "nbformat": 4,
 "nbformat_minor": 2
}
